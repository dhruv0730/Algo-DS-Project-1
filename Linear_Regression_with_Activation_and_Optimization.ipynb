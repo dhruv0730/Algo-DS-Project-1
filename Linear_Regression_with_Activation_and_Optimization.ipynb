{
  "nbformat": 4,
  "nbformat_minor": 0,
  "metadata": {
    "colab": {
      "provenance": [],
      "include_colab_link": true
    },
    "kernelspec": {
      "name": "python3",
      "display_name": "Python 3"
    },
    "language_info": {
      "name": "python"
    }
  },
  "cells": [
    {
      "cell_type": "markdown",
      "metadata": {
        "id": "view-in-github",
        "colab_type": "text"
      },
      "source": [
        "<a href=\"https://colab.research.google.com/github/dhruv0730/Algo-DS-Project-1/blob/main/Linear_Regression_with_Activation_and_Optimization.ipynb\" target=\"_parent\"><img src=\"https://colab.research.google.com/assets/colab-badge.svg\" alt=\"Open In Colab\"/></a>"
      ]
    },
    {
      "cell_type": "markdown",
      "source": [
        "    Implementation of Linear Regression with Activation and Optimization using Scikit-Learn along with NumPy.\n",
        "\n",
        "    Scikit-Learn's LinearRegression does not explicitly support activation functions\n",
        "    so we will manually apply an activation function after making predictions.\n",
        "    \n",
        "    For optimization, we will use Gradient Descent via SGDRegressor."
      ],
      "metadata": {
        "id": "XvcySlTTKfkG"
      }
    },
    {
      "cell_type": "markdown",
      "source": [
        "    Import Required Libraries"
      ],
      "metadata": {
        "id": "D6KgeQOIMSkl"
      }
    },
    {
      "cell_type": "code",
      "execution_count": null,
      "metadata": {
        "colab": {
          "base_uri": "https://localhost:8080/"
        },
        "id": "RoTEfFlpKcxg",
        "outputId": "3b91a51d-a476-4a93-faaf-8871feb96142"
      },
      "outputs": [
        {
          "output_type": "stream",
          "name": "stdout",
          "text": [
            "   sepal_length  sepal_width  petal_length  petal_width species\n",
            "0           5.1          3.5           1.4          0.2  setosa\n",
            "1           4.9          3.0           1.4          0.2  setosa\n",
            "2           4.7          3.2           1.3          0.2  setosa\n",
            "3           4.6          3.1           1.5          0.2  setosa\n",
            "4           5.0          3.6           1.4          0.2  setosa\n"
          ]
        }
      ],
      "source": [
        "from sklearn.pipeline import make_pipeline\n",
        "import numpy as np\n",
        "import seaborn as sns\n",
        "import matplotlib.pyplot as plt\n",
        "from sklearn.linear_model import SGDRegressor\n",
        "from sklearn.preprocessing import StandardScaler\n",
        "from sklearn.model_selection import train_test_split\n",
        "from sklearn.metrics import mean_squared_error\n",
        "\n",
        "# Load the Iris dataset\n",
        "iris = sns.load_dataset(\"iris\")\n",
        "\n",
        "# Display the first few rows\n",
        "print(iris.head())\n",
        "\n"
      ]
    },
    {
      "cell_type": "markdown",
      "source": [
        "    Generate Synthetic Data"
      ],
      "metadata": {
        "id": "PfAeVgTAMVUd"
      }
    },
    {
      "cell_type": "code",
      "source": [
        "# Load the Iris dataset\n",
        "iris = sns.load_dataset(\"iris\")\n",
        "\n",
        "# Selecting features and target for regression\n",
        "X = iris.drop(columns=[\"species\", \"petal_length\"])  # Use all numerical features except petal_length\n",
        "y = iris[\"petal_length\"]  # Target variable\n",
        "\n",
        "# Split data into training and testing sets\n",
        "X_train, X_test, y_train, y_test = train_test_split(X, y, test_size=0.2, random_state=42)\n",
        "\n",
        "# Standardize the features for better optimization\n",
        "scaler = StandardScaler()\n",
        "X_train_scaled = scaler.fit_transform(X_train)\n",
        "X_test_scaled = scaler.transform(X_test)\n",
        "\n"
      ],
      "metadata": {
        "id": "5nB2SQw3LmiG"
      },
      "execution_count": null,
      "outputs": []
    },
    {
      "cell_type": "markdown",
      "source": [
        "    Train Model Using SGD & Track Loss"
      ],
      "metadata": {
        "id": "3Hj1gxYIMbal"
      }
    },
    {
      "cell_type": "code",
      "source": [
        "# Initialize SGDRegressor\n",
        "sgd = SGDRegressor(loss=\"squared_error\", learning_rate=\"constant\", eta0=0.01, max_iter=1, tol=None, random_state=42)\n",
        "\n",
        "# Store loss values over epochs\n",
        "loss_values = []\n",
        "\n",
        "# Train the model for 1000 iterations manually\n",
        "for i in range(1000):\n",
        "    sgd.partial_fit(X_train_scaled, y_train)  # Perform one epoch of training\n",
        "    y_pred = sgd.predict(X_train_scaled)\n",
        "    loss = mean_squared_error(y_train, y_pred)  # Compute MSE loss\n",
        "    loss_values.append(loss)  # Store loss\n",
        "\n"
      ],
      "metadata": {
        "id": "dx8rpc7_LydN"
      },
      "execution_count": null,
      "outputs": []
    },
    {
      "cell_type": "code",
      "source": [
        "# Plot loss over iterations\n",
        "plt.figure(figsize=(8, 5))\n",
        "plt.plot(range(1, 1001), loss_values, label=\"Loss over iterations\", color=\"blue\")\n",
        "plt.xlabel(\"Iterations\")\n",
        "plt.ylabel(\"Mean Squared Error (Loss)\")\n",
        "plt.title(\"SGD Optimization: Loss Reduction over Iterations (Iris Dataset)\")\n",
        "plt.legend()\n",
        "plt.grid()\n",
        "plt.show()\n"
      ],
      "metadata": {
        "colab": {
          "base_uri": "https://localhost:8080/",
          "height": 487
        },
        "id": "tzJVesMwmD_J",
        "outputId": "76260d8c-97ef-4b7a-e67e-1b0f1c62954d"
      },
      "execution_count": null,
      "outputs": [
        {
          "output_type": "display_data",
          "data": {
            "text/plain": [
              "<Figure size 800x500 with 1 Axes>"
            ],
            "image/png": "[encoded data removed]"
          },
          "metadata": {}
        }
      ]
    },
    {
      "cell_type": "code",
      "source": [
        "# Evaluate on Test Data\n",
        "y_test_pred = sgd.predict(X_test_scaled)\n",
        "test_loss = mean_squared_error(y_test, y_test_pred)\n",
        "\n",
        "print(f\"Final Test Loss (MSE): {test_loss:.4f}\")\n"
      ],
      "metadata": {
        "colab": {
          "base_uri": "https://localhost:8080/"
        },
        "id": "G4RvDCrlmJR5",
        "outputId": "9d222ddb-57a5-46f2-91cc-9dcbba0675db"
      },
      "execution_count": null,
      "outputs": [
        {
          "output_type": "stream",
          "name": "stdout",
          "text": [
            "Final Test Loss (MSE): 0.1319\n"
          ]
        }
      ]
    }
  ]
}